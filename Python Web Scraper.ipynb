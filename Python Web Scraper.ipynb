{
 "cells": [
  {
   "cell_type": "markdown",
   "id": "06f43fff",
   "metadata": {},
   "source": [
    "## Amazon Scraper"
   ]
  },
  {
   "cell_type": "code",
   "execution_count": 2,
   "id": "5c908e9f",
   "metadata": {},
   "outputs": [],
   "source": [
    "from bs4 import BeautifulSoup\n",
    "\n",
    "import requests\n",
    "\n",
    "import time\n",
    "import datetime\n",
    "\n",
    "import csv\n",
    "\n",
    "import smtplib\n",
    "\n",
    "import pandas as pd"
   ]
  },
  {
   "cell_type": "code",
   "execution_count": 3,
   "id": "7c18f598",
   "metadata": {},
   "outputs": [],
   "source": [
    "#This function scrapes the price of the chosen product from Amazon and stores it in a worksheet\n",
    "def check_price():\n",
    "\n",
    "    URL = \"https://www.amazon.com/Echo-Entertainment-Bundle-Studio-Charcoal/dp/B0BBSKQFYR/ref=sr_1_20?crid=36IGR8RP0YGLT&keywords=amazon&qid=1689844083&refinements=p_89%3AAmazon&rnid=2528832011&s=electronics&sprefix=amazon%2Caps%2C319&sr=1-20\"\n",
    "\n",
    "    headers = {\"User-Agent\": \"Mozilla/5.0 (Windows NT 10.0; Win64; x64) AppleWebKit/537.36 (KHTML, like Gecko) Chrome/114.0.0.0 Safari/537.36 Edg/114.0.1823.82\"}\n",
    "\n",
    "    page = requests.get(URL, headers = headers)\n",
    "\n",
    "    soup = BeautifulSoup(page.content, \"lxml\")\n",
    "\n",
    "    title = soup.find(id = \"productTitle\").get_text().strip()[:30]\n",
    "    price = soup.find('span', {'class':\"a-offscreen\"}).get_text().strip()\n",
    "\n",
    "    today = datetime.date.today()\n",
    "    header = ['Title', 'Price', 'Date']\n",
    "    data = [title, price, today]\n",
    "\n",
    "    with open('Project1Dataset.csv', 'a+', newline='', encoding='UTF8') as f:\n",
    "        writer = csv.writer(f)\n",
    "        writer.writerow(data)\n",
    "    \n",
    "    df = pd.read_csv(r'C:\\Users\\duyan\\Jupyter - Python\\Project1Dataset.csv')\n",
    "    print(df)"
   ]
  },
  {
   "cell_type": "code",
   "execution_count": null,
   "id": "d0b01e40",
   "metadata": {},
   "outputs": [
    {
     "name": "stdout",
     "output_type": "stream",
     "text": [
      "                            Title    Price        Date\n",
      "0  Echo Home Entertainment Bundle  $399.97  2023-07-20\n",
      "1  Echo Home Entertainment Bundle  $399.97  2023-07-21\n"
     ]
    }
   ],
   "source": [
    "while(True):\n",
    "    check_price()\n",
    "    time.sleep(86400) #runs function daily"
   ]
  },
  {
   "cell_type": "code",
   "execution_count": null,
   "id": "0dc96974",
   "metadata": {},
   "outputs": [],
   "source": [
    "#This function will send you an email when the price drops\n",
    "def send_mail():\n",
    "    server = smtplib.SMTP_SSL('smtp.gmail.com', 350)\n",
    "    server.ehlo()\n",
    "    #server.starttls()\n",
    "    server.ehlo()\n",
    "    server.login('duyanh21tbn@gmail.com','********')\n",
    "    \n",
    "    subject = \"Echo Bundle Price Drop\"\n",
    "    body = \"Go check out the sale, get it if you want! Link here: https://www.amazon.com/Echo-Entertainment-Bundle-Studio-Charcoal/dp/B0BBSKQFYR/ref=sr_1_20?crid=36IGR8RP0YGLT&keywords=amazon&qid=1689844083&refinements=p_89%3AAmazon&rnid=2528832011&s=electronics&sprefix=amazon%2Caps%2C319&sr=1-20\n",
    "   \n",
    "    msg = f\"Subject: {subject}\\n\\n{body}\"\n",
    "    \n",
    "    server.sendmail(\n",
    "        'duyanh07tbn@gmail.com',\n",
    "        msg)"
   ]
  }
 ],
 "metadata": {
  "kernelspec": {
   "display_name": "Python 3 (ipykernel)",
   "language": "python",
   "name": "python3"
  },
  "language_info": {
   "codemirror_mode": {
    "name": "ipython",
    "version": 3
   },
   "file_extension": ".py",
   "mimetype": "text/x-python",
   "name": "python",
   "nbconvert_exporter": "python",
   "pygments_lexer": "ipython3",
   "version": "3.11.4"
  }
 },
 "nbformat": 4,
 "nbformat_minor": 5
}
